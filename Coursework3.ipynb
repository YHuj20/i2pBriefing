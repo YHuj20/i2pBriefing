{
 "cells": [
  {
   "cell_type": "markdown",
   "metadata": {},
   "source": [
    "# Executive Briefing"
   ]
  },
  {
   "cell_type": "markdown",
   "metadata": {},
   "source": []
  },
  {
   "cell_type": "markdown",
   "metadata": {},
   "source": [
    "# Reproducible Analysis"
   ]
  },
  {
   "cell_type": "markdown",
   "metadata": {},
   "source": [
    "## Loading the data"
   ]
  },
  {
   "cell_type": "code",
   "execution_count": 7,
   "metadata": {},
   "outputs": [],
   "source": [
    "import numpy as np\n",
    "import pandas as pd\n",
    "import geopandas as gpd\n",
    "import seaborn as sns\n",
    "import matplotlib.pyplot as plt\n",
    "import matplotlib.cm as cm\n",
    "import matplotlib as mpl\n",
    "import re\n",
    "import os\n",
    "\n",
    "from matplotlib.colors import ListedColormap\n",
    "\n",
    "import sklearn\n",
    "from sklearn.neighbors import NearestNeighbors\n",
    "from sklearn.manifold import TSNE\n",
    "from sklearn.decomposition import PCA\n",
    "from sklearn.preprocessing import PowerTransformer, RobustScaler, StandardScaler, MinMaxScaler\n",
    "from sklearn.cluster import KMeans, DBSCAN, OPTICS\n",
    "from esda.adbscan import ADBSCAN\n",
    "\n",
    "import random\n",
    "random.seed(42)    # For reproducibility\n",
    "np.random.seed(42) # For reproducibility\n",
    "\n",
    "# Make numeric display a bit neater\n",
    "pd.set_option('display.float_format', lambda x: '{:,.2f}'.format(x))\n",
    "\n",
    "#visualisation set\n",
    "sns.set(style=\"whitegrid\", palette=\"pastel\", color_codes=True) \n",
    "sns.mpl.rc(\"figure\", figsize=(10,6))"
   ]
  },
  {
   "cell_type": "code",
   "execution_count": 9,
   "metadata": {},
   "outputs": [
    {
     "name": "stdout",
     "output_type": "stream",
     "text": [
      "Data frame is 80,767 x 12\n",
      "<class 'pandas.core.frame.DataFrame'>\n",
      "RangeIndex: 80767 entries, 0 to 80766\n",
      "Data columns (total 12 columns):\n",
      " #   Column                  Non-Null Count  Dtype  \n",
      "---  ------                  --------------  -----  \n",
      " 0   neighbourhood           80766 non-null  object \n",
      " 1   neighbourhood_cleansed  80767 non-null  object \n",
      " 2   latitude                80767 non-null  float64\n",
      " 3   longitude               80767 non-null  float64\n",
      " 4   property_type           80767 non-null  object \n",
      " 5   room_type               80767 non-null  object \n",
      " 6   accommodates            80767 non-null  int64  \n",
      " 7   bedrooms                80730 non-null  float64\n",
      " 8   beds                    80633 non-null  float64\n",
      " 9   price                   80767 non-null  object \n",
      " 10  minimum_nights          80767 non-null  int64  \n",
      " 11  minimum_minimum_nights  80767 non-null  int64  \n",
      "dtypes: float64(4), int64(3), object(5)\n",
      "memory usage: 7.4+ MB\n"
     ]
    }
   ],
   "source": [
    "# Set download URL\n",
    "url = 'http://data.insideairbnb.com/united-kingdom/england/london/2019-05-05/data/listings.csv.gz'\n",
    "\n",
    "airbnb = pd.read_csv(url, compression='gzip', low_memory=False, usecols = ['minimum_minimum_nights','minimum_nights','property_type','room_type','longitude','latitude','price','bedrooms','beds','accommodates','neighbourhood','neighbourhood_cleansed'])\n",
    "print(f\"Data frame is {airbnb.shape[0]:,} x {airbnb.shape[1]}\")\n",
    "\n",
    "airbnb.info()"
   ]
  },
  {
   "cell_type": "code",
   "execution_count": null,
   "metadata": {},
   "outputs": [],
   "source": [
    "# Set download URL\n",
    "#url = 'https://github.com/YHuj20/i2pBriefing/'\n",
    "\n",
    "#import pandas as pd\n",
    "#airbnb = pd.read_csv(url, compression='gzip', low_memory=False)\n",
    "\n",
    "#print(f\"Data frame is {df.shape[0]:,} x {df.shape[1]}\")\n",
    "\n",
    "emptyhomes = pd.read_csv(\"Data/All-longterm-vacant-dwellings.csv\", low_memory = False)\n",
    "emptyhomes = emptyhomes[emptyhomes['2018'].notna()]\n",
    "emptyhomes.info()"
   ]
  },
  {
   "cell_type": "code",
   "execution_count": null,
   "metadata": {},
   "outputs": [],
   "source": [
    "# Set download URL\n",
    "#url = 'https://github.com/YHuj20/i2pBriefing/'\n",
    "\n",
    "#import pandas as pd\n",
    "#airbnb = pd.read_csv(url, compression='gzip', low_memory=False)\n",
    "\n",
    "#print(f\"Data frame is {df.shape[0]:,} x {df.shape[1]}\")\n",
    "\n",
    "totalhomes = pd.read_csv(\"Data/Total-dwellings-per-borough.csv\", low_memory = False)\n",
    "totalhomes.info()"
   ]
  },
  {
   "cell_type": "code",
   "execution_count": null,
   "metadata": {},
   "outputs": [],
   "source": [
    "#"
   ]
  },
  {
   "cell_type": "code",
   "execution_count": 6,
   "metadata": {},
   "outputs": [
    {
     "name": "stdout",
     "output_type": "stream",
     "text": [
      "id\n",
      "listing_url\n",
      "scrape_id\n",
      "last_scraped\n",
      "name\n",
      "summary\n",
      "space\n",
      "description\n",
      "experiences_offered\n",
      "neighborhood_overview\n",
      "notes\n",
      "transit\n",
      "access\n",
      "interaction\n",
      "house_rules\n",
      "thumbnail_url\n",
      "medium_url\n",
      "picture_url\n",
      "xl_picture_url\n",
      "host_id\n",
      "host_url\n",
      "host_name\n",
      "host_since\n",
      "host_location\n",
      "host_about\n",
      "host_response_time\n",
      "host_response_rate\n",
      "host_acceptance_rate\n",
      "host_is_superhost\n",
      "host_thumbnail_url\n",
      "host_picture_url\n",
      "host_neighbourhood\n",
      "host_listings_count\n",
      "host_total_listings_count\n",
      "host_verifications\n",
      "host_has_profile_pic\n",
      "host_identity_verified\n",
      "street\n",
      "neighbourhood\n",
      "neighbourhood_cleansed\n",
      "neighbourhood_group_cleansed\n",
      "city\n",
      "state\n",
      "zipcode\n",
      "market\n",
      "smart_location\n",
      "country_code\n",
      "country\n",
      "latitude\n",
      "longitude\n",
      "is_location_exact\n",
      "property_type\n",
      "room_type\n",
      "accommodates\n",
      "bathrooms\n",
      "bedrooms\n",
      "beds\n",
      "bed_type\n",
      "amenities\n",
      "square_feet\n",
      "price\n",
      "weekly_price\n",
      "monthly_price\n",
      "security_deposit\n",
      "cleaning_fee\n",
      "guests_included\n",
      "extra_people\n",
      "minimum_nights\n",
      "maximum_nights\n",
      "minimum_minimum_nights\n",
      "maximum_minimum_nights\n",
      "minimum_maximum_nights\n",
      "maximum_maximum_nights\n",
      "minimum_nights_avg_ntm\n",
      "maximum_nights_avg_ntm\n",
      "calendar_updated\n",
      "has_availability\n",
      "availability_30\n",
      "availability_60\n",
      "availability_90\n",
      "availability_365\n",
      "calendar_last_scraped\n",
      "number_of_reviews\n",
      "number_of_reviews_ltm\n",
      "first_review\n",
      "last_review\n",
      "review_scores_rating\n",
      "review_scores_accuracy\n",
      "review_scores_cleanliness\n",
      "review_scores_checkin\n",
      "review_scores_communication\n",
      "review_scores_location\n",
      "review_scores_value\n",
      "requires_license\n",
      "license\n",
      "jurisdiction_names\n",
      "instant_bookable\n",
      "is_business_travel_ready\n",
      "cancellation_policy\n",
      "require_guest_profile_picture\n",
      "require_guest_phone_verification\n",
      "calculated_host_listings_count\n",
      "calculated_host_listings_count_entire_homes\n",
      "calculated_host_listings_count_private_rooms\n",
      "calculated_host_listings_count_shared_rooms\n",
      "reviews_per_month\n"
     ]
    }
   ],
   "source": [
    "for col in airbnb.columns: \n",
    "    print(col) "
   ]
  },
  {
   "cell_type": "code",
   "execution_count": null,
   "metadata": {},
   "outputs": [],
   "source": [
    "airbnb.groupby(['neighbourhood','room_type']).count()"
   ]
  },
  {
   "cell_type": "code",
   "execution_count": null,
   "metadata": {},
   "outputs": [],
   "source": [
    "typecount = airbnb.pivot_table('id', 'neighbourhood', 'room_type', aggfunc='count', fill_value=0)\n",
    "typecount = typecount.rename(columns={\"Entire home/apt\" : \"Entire_Home\" , \"Private room\": \"Private_Room\", \"Shared room\": \"Shared_Room\"})"
   ]
  },
  {
   "cell_type": "code",
   "execution_count": null,
   "metadata": {},
   "outputs": [],
   "source": [
    "typecount['Percent_Entire_Home'] = typecount.Entire_Home/typecount.Entire_Home.sum()\n",
    "typecount['Percent_Private_Room'] = typecount.Private_Room/typecount.Private_Room.sum()\n",
    "typecount['Percent_Shared_Room'] = typecount.Shared_Room/typecount.Shared_Room.sum()\n",
    "typecount['LAD_Name'] = typecount.index\n",
    "typecount.sample(12, random_state = 42)"
   ]
  },
  {
   "cell_type": "code",
   "execution_count": null,
   "metadata": {},
   "outputs": [],
   "source": [
    "#Join datasets by LA name\n",
    "#calculate density of entire homes against total homes per borough\n",
    "\n",
    "typecount=typecount.set_index('LAD_Name').join(totalhomes.set_index('Local Authority'))\n",
    "typecount['Density_of_Entire_Homes'] = typecount['Entire_Home']/typecount['2018']\n",
    "typecount['LAD_Name'] = typecount.index\n",
    "typecount.head()"
   ]
  },
  {
   "cell_type": "code",
   "execution_count": null,
   "metadata": {},
   "outputs": [],
   "source": [
    "#Entire Homes Locations\n",
    "entirehomeslatlong = airbnb[['latitude', 'longitude', 'room_type']].copy()\n",
    "entirehomeslatlong.info()"
   ]
  },
  {
   "cell_type": "markdown",
   "metadata": {},
   "source": [
    "## Mapping Entire AirBnB Homes"
   ]
  },
  {
   "cell_type": "code",
   "execution_count": null,
   "metadata": {},
   "outputs": [],
   "source": [
    "import os\n",
    "from requests import get\n",
    "from urllib.parse import urlparse\n",
    "\n",
    "def cache_data(src:str, dest:str) -> str:\n",
    "    \"\"\"Downloads and caches a remote file locally.\n",
    "    \n",
    "    The function sits between the 'read' step of a pandas or geopandas\n",
    "    data frame and downloading the file from a remote location. The idea\n",
    "    is that it will save it locally so that you don't need to remember to\n",
    "    do so yourself. Subsequent re-reads of the file will return instantly\n",
    "    rather than downloading the entire file for a second or n-th itme.\n",
    "    \n",
    "    Parameters\n",
    "    ----------\n",
    "    src : str\n",
    "        The remote *source* for the file, any valid URL should work.\n",
    "    dest : str\n",
    "        The *destination* location to save the downloaded file.\n",
    "        \n",
    "    Returns\n",
    "    -------\n",
    "    str\n",
    "        A string representing the local location of the file.\n",
    "    \"\"\"\n",
    "    \n",
    "    url = urlparse(src) # We assume that this is some kind of valid URL \n",
    "    fn  = os.path.split(url.path)[-1] # Extract the filename\n",
    "    dfn = os.path.join(dest,fn) # Destination filename\n",
    "    \n",
    "    # Check if dest+filename does *not* exist -- \n",
    "    # that would mean we have to download it!\n",
    "    if not os.path.isfile(dfn):\n",
    "        \n",
    "        print(f\"{dfn} not found, downloading!\")\n",
    "\n",
    "        # Convert the path back into a list (without)\n",
    "        # the filename -- we need to check that directories\n",
    "        # exist first.\n",
    "        path = os.path.split(dest)\n",
    "        \n",
    "        # Create any missing directories in dest(ination) path\n",
    "        # -- os.path.join is the reverse of split (as you saw above)\n",
    "        # but it doesn't work with lists... so I had to google how\n",
    "        # to use the 'splat' operator! os.makedirs creates missing\n",
    "        # directories in a path automatically.\n",
    "        if len(path) >= 1 and path[0] != '':\n",
    "            os.makedirs(os.path.join(*path), exist_ok=True)\n",
    "            \n",
    "        # Download and write the file\n",
    "        with open(dfn, \"wb\") as file:\n",
    "            response = get(src)\n",
    "            file.write(response.content)\n",
    "            \n",
    "        print('Done downloading...')\n",
    "\n",
    "    else:\n",
    "        print(f\"Found {dfn} locally!\")\n",
    "\n",
    "    return dfn"
   ]
  },
  {
   "cell_type": "code",
   "execution_count": null,
   "metadata": {},
   "outputs": [],
   "source": [
    "ddir  = os.path.join('data','geo') # destination directory\n",
    "spath = 'https://github.com/jreades/i2p/blob/master/data/src/' # source path\n",
    "\n",
    "boros = gpd.read_file( cache_data(spath+'Boroughs.gpkg?raw=true', ddir) )\n",
    "print('Done.')"
   ]
  },
  {
   "cell_type": "code",
   "execution_count": null,
   "metadata": {},
   "outputs": [],
   "source": [
    "#checking projection\n",
    "print(boros.crs)"
   ]
  },
  {
   "cell_type": "code",
   "execution_count": null,
   "metadata": {},
   "outputs": [],
   "source": [
    "boros.plot()"
   ]
  },
  {
   "cell_type": "code",
   "execution_count": null,
   "metadata": {},
   "outputs": [],
   "source": [
    "boros.head()"
   ]
  },
  {
   "cell_type": "code",
   "execution_count": null,
   "metadata": {},
   "outputs": [],
   "source": [
    "#creating the geodataframe\n",
    "geotypes=typecount.set_index('ONS code').join(boros.set_index('GSS_CODE'))\n",
    "gdf = gpd.GeoDataFrame(geotypes, crs = \"EPSG:27700\")"
   ]
  },
  {
   "cell_type": "markdown",
   "metadata": {},
   "source": [
    "### Mapping % of Entire Homes listings in May 2019"
   ]
  },
  {
   "cell_type": "code",
   "execution_count": null,
   "metadata": {},
   "outputs": [],
   "source": [
    "fig, ax = plt.subplots(1,1)\n",
    "\n",
    "gdf.plot(column = 'Percent_Entire_Home',\n",
    "        ax=ax, \n",
    "        legend=True)\n",
    "        #legend = {'label':\"% of London's Entire Homes Listings\", 'orientation':\"horizontal\"})"
   ]
  },
  {
   "cell_type": "code",
   "execution_count": null,
   "metadata": {},
   "outputs": [],
   "source": [
    "fig, ax = plt.subplots(1,1)\n",
    "\n",
    "gdf.plot(column = 'Density_of_Entire_Homes',\n",
    "        ax=ax, \n",
    "        legend=True)\n",
    "        #legend = {'label':\"% of London's Entire Homes Listings\", 'orientation':\"horizontal\"})"
   ]
  },
  {
   "cell_type": "markdown",
   "metadata": {},
   "source": [
    "Evidentally, the majority of entire homes listings are in Westminster"
   ]
  },
  {
   "cell_type": "code",
   "execution_count": null,
   "metadata": {},
   "outputs": [],
   "source": [
    "#creating geodataframe of listings\n",
    "\n",
    "entirehomesgdf = gpd.GeoDataFrame(entirehomeslatlong, \n",
    "      geometry=gpd.points_from_xy(entirehomeslatlong['longitude'], entirehomeslatlong['latitude'], crs='epsg:4326'))\n",
    "entirehomesgdf = entirehomesgdf.to_crs('epsg:27700')\n",
    "entirehomesgdf.plot(column='room_type', cmap='plasma', markersize=1, figsize=(8,6));"
   ]
  },
  {
   "cell_type": "markdown",
   "metadata": {},
   "source": [
    "## Mapping Empty Homes in London"
   ]
  },
  {
   "cell_type": "code",
   "execution_count": null,
   "metadata": {},
   "outputs": [],
   "source": [
    "emptyhomes.head()"
   ]
  },
  {
   "cell_type": "code",
   "execution_count": null,
   "metadata": {},
   "outputs": [],
   "source": [
    "emptyhomes['Density of Empty Homes'] = emptyhomes['2018']/totalhomes['2018']\n",
    "emptyhomes.columns = emptyhomes.columns.map(lambda x: str(x) + '_empty')\n",
    "emptyhomes.head()"
   ]
  },
  {
   "cell_type": "code",
   "execution_count": null,
   "metadata": {},
   "outputs": [],
   "source": [
    "geotypes.head()"
   ]
  },
  {
   "cell_type": "code",
   "execution_count": null,
   "metadata": {},
   "outputs": [],
   "source": [
    "#joining empty homes to the geodataframe\n",
    "geotypes=geotypes.set_index('LAD_Name').join(emptyhomes.set_index('Area_empty'))\n",
    "gdf = gpd.GeoDataFrame(geotypes, crs = \"EPSG:27700\")"
   ]
  },
  {
   "cell_type": "code",
   "execution_count": null,
   "metadata": {},
   "outputs": [],
   "source": [
    "fig, ax = plt.subplots(1,1)\n",
    "\n",
    "gdf.plot(column = 'Density of Empty Homes_empty',\n",
    "        ax=ax, \n",
    "        legend=True)\n",
    "        #legend = {'label':\"% of London's Entire Homes Listings\", 'orientation':\"horizontal\"})"
   ]
  },
  {
   "cell_type": "markdown",
   "metadata": {},
   "source": [
    "## Mapping Empty Homes and Airbnb Entire Homes Listings"
   ]
  },
  {
   "cell_type": "code",
   "execution_count": null,
   "metadata": {},
   "outputs": [],
   "source": [
    "geotypes.info()"
   ]
  },
  {
   "cell_type": "code",
   "execution_count": null,
   "metadata": {},
   "outputs": [],
   "source": [
    "geotypes['Total empty and entire homes 2018'] = geotypes['Entire_Home']+geotypes['2018_empty']\n",
    "geotypes['Percent Unavailable 2018'] = geotypes['Total empty and entire homes 2018'] / geotypes['2018']\n",
    "geotypes['Total empty and entire homes 2019'] = geotypes['Entire_Home']+geotypes['2019_empty']\n",
    "geotypes['Percent Unavailable 2019'] = geotypes['Total empty and entire homes 2019'] / geotypes['2018']\n",
    "geotypes.info()"
   ]
  },
  {
   "cell_type": "code",
   "execution_count": null,
   "metadata": {},
   "outputs": [],
   "source": [
    "gdf = gpd.GeoDataFrame(geotypes, crs = \"EPSG:27700\")\n",
    "\n",
    "fig, ax = plt.subplots(1,1)\n",
    "\n",
    "gdf.plot(column = 'Percent Unavailable 2018',\n",
    "        ax=ax, \n",
    "        legend=True)\n",
    "        #legend = {'label':\"% of London's Entire Homes Listings\", 'orientation':\"horizontal\"})"
   ]
  },
  {
   "cell_type": "code",
   "execution_count": null,
   "metadata": {},
   "outputs": [],
   "source": [
    "gdf = gpd.GeoDataFrame(geotypes, crs = \"EPSG:27700\")\n",
    "\n",
    "fig, ax = plt.subplots(1,1)\n",
    "\n",
    "gdf.plot(column = 'Percent Unavailable 2019',\n",
    "        ax=ax, \n",
    "        legend=True)\n",
    "        #legend = {'label':\"% of London's Entire Homes Listings\", 'orientation':\"horizontal\"})"
   ]
  },
  {
   "cell_type": "markdown",
   "metadata": {},
   "source": [
    "## Compare the above to the housing shortage"
   ]
  },
  {
   "cell_type": "code",
   "execution_count": null,
   "metadata": {},
   "outputs": [],
   "source": [
    "#Plot graphs of empty homes year on year \n",
    "\n",
    "emptyhomes.loc[\"Total\"] = emptyhomes.sum(numeric_only=True)\n",
    "emptyhomes\n"
   ]
  },
  {
   "cell_type": "markdown",
   "metadata": {},
   "source": [
    "## Relationship Between Empty Homes and Entire Homes Listings"
   ]
  },
  {
   "cell_type": "markdown",
   "metadata": {},
   "source": [
    "# "
   ]
  },
  {
   "cell_type": "code",
   "execution_count": null,
   "metadata": {},
   "outputs": [],
   "source": [
    "# Scatterplot of number of empty homes and number of entire homes listings by borough\n",
    "\n",
    "fig = plt.figure()\n",
    "ax = fig.add_subplot(1, 1, 1) \n",
    "ax.set_facecolor('xkcd:white')\n",
    "\n",
    "x = geotypes['2019_empty']\n",
    "y = geotypes['Entire_Home']\n",
    "plt.scatter(x, y)\n",
    "\n",
    "z = np.polyfit(x, y, 1)\n",
    "p = np.poly1d(z)\n",
    "plt.plot(x,p(x),\"r--\")\n",
    "\n",
    "plt.show()\n",
    "\n",
    "#add the rsq and equation of the line\n",
    "\n",
    "fig = plt.figure()\n",
    "ax = fig.add_subplot(1, 1, 1) \n",
    "ax.set_facecolor('xkcd:white')\n",
    "\n",
    "plt.plot(x,y,\"o\", ms=5, mec=\"k\", color = 'darkblue')\n",
    "z = np.polyfit(x, y, 1)\n",
    "y_hat = np.poly1d(z)(x)\n",
    "\n",
    "plt.plot(x, y_hat, \"r--\", lw=2, color='lightblue')\n",
    "text = f\"$y={z[0]:0.2f}\\;x{z[1]:+0.2f}$\\n$R^2 = {r2_score(y,y_hat):0.2f}$\"\n",
    "plt.gca().text(0.05, 0.95, text,transform=plt.gca().transAxes,\n",
    "     fontsize=14, verticalalignment='top')\n",
    "ax.set_ylabel('Level4 Qualifications (Female)')\n",
    "ax.set_xlabel('Level4 Qualifications (Male)')"
   ]
  },
  {
   "cell_type": "code",
   "execution_count": null,
   "metadata": {},
   "outputs": [],
   "source": []
  }
 ],
 "metadata": {
  "kernelspec": {
   "display_name": "Python 3",
   "language": "python",
   "name": "python3"
  },
  "language_info": {
   "codemirror_mode": {
    "name": "ipython",
    "version": 3
   },
   "file_extension": ".py",
   "mimetype": "text/x-python",
   "name": "python",
   "nbconvert_exporter": "python",
   "pygments_lexer": "ipython3",
   "version": "3.7.8"
  }
 },
 "nbformat": 4,
 "nbformat_minor": 4
}
